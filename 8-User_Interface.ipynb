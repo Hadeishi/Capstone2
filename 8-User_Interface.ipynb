{
 "cells": [
  {
   "cell_type": "markdown",
   "metadata": {},
   "source": [
    "# Welcome to MovieRec4Parents!\n",
    "\n",
    "#### Please do not tamper with the cell below, or the interface won't work.\n",
    "#### *** IMPORTANT: ***  If you forked and cloned this from my GitHub, you will need to contact also download the cosine similarity matrix file, similarity_matrix_tfidfvec_truncSVD4000.pkl, for this recommender to work. You can do so by going to https://drive.google.com/open?id=1MZv3t0YlG6VIQYRr5c0_e88stkJFFO1z and downloading the file. Be sure to move it to the  /capstone/data folder before running any of the cells below.\n"
   ]
  },
  {
   "cell_type": "code",
   "execution_count": 3,
   "metadata": {},
   "outputs": [],
   "source": [
    "from lib.interface import *"
   ]
  },
  {
   "cell_type": "markdown",
   "metadata": {},
   "source": [
    "### If you want five quick movie recommendations, think of a movie that is like a movie you'd like to see, click next to \"find_similar_movies\" and press enter. If you have more time and don't mind answering a few questions, click next to \"get_parent_ratings_first\" and press enter. You'll be asked a few questions which will be used to refine my recommendations."
   ]
  },
  {
   "cell_type": "code",
   "execution_count": 5,
   "metadata": {
    "scrolled": false
   },
   "outputs": [
    {
     "name": "stdout",
     "output_type": "stream",
     "text": [
      "Give me a movie title and I'll give you five titles you might also like:mission impossible\n",
      "Sorry, that movie title isn't in my list. Did you mean [('Mission: Impossible', 97, 8640), ('Mission: Impossible III', 95, 5794), ('Mission: Impossible 2', 95, 7949)] ?\n",
      "(I need the exact title, please...)Mission: Impossible III\n",
      "Thanks! Here are my recommendations, along with review text similarity scores:\n"
     ]
    },
    {
     "data": {
      "text/html": [
       "<div>\n",
       "<style scoped>\n",
       "    .dataframe tbody tr th:only-of-type {\n",
       "        vertical-align: middle;\n",
       "    }\n",
       "\n",
       "    .dataframe tbody tr th {\n",
       "        vertical-align: top;\n",
       "    }\n",
       "\n",
       "    .dataframe thead th {\n",
       "        text-align: right;\n",
       "    }\n",
       "</style>\n",
       "<table border=\"1\" class=\"dataframe\">\n",
       "  <thead>\n",
       "    <tr style=\"text-align: right;\">\n",
       "      <th></th>\n",
       "      <th>Mission: Impossible III</th>\n",
       "    </tr>\n",
       "    <tr>\n",
       "      <th>title</th>\n",
       "      <th></th>\n",
       "    </tr>\n",
       "  </thead>\n",
       "  <tbody>\n",
       "    <tr>\n",
       "      <th>The Matchbreaker</th>\n",
       "      <td>0.499479</td>\n",
       "    </tr>\n",
       "    <tr>\n",
       "      <th>Mission: Impossible - Rogue Nation</th>\n",
       "      <td>0.471695</td>\n",
       "    </tr>\n",
       "    <tr>\n",
       "      <th>Mission: Impossible - Ghost Protocol</th>\n",
       "      <td>0.453346</td>\n",
       "    </tr>\n",
       "    <tr>\n",
       "      <th>The One I Love</th>\n",
       "      <td>0.440353</td>\n",
       "    </tr>\n",
       "    <tr>\n",
       "      <th>Beautiful Creatures</th>\n",
       "      <td>0.421264</td>\n",
       "    </tr>\n",
       "  </tbody>\n",
       "</table>\n",
       "</div>"
      ],
      "text/plain": [
       "                                      Mission: Impossible III\n",
       "title                                                        \n",
       "The Matchbreaker                                     0.499479\n",
       "Mission: Impossible - Rogue Nation                   0.471695\n",
       "Mission: Impossible - Ghost Protocol                 0.453346\n",
       "The One I Love                                       0.440353\n",
       "Beautiful Creatures                                  0.421264"
      ]
     },
     "execution_count": 5,
     "metadata": {},
     "output_type": "execute_result"
    }
   ],
   "source": [
    "find_similar_movies()"
   ]
  },
  {
   "cell_type": "code",
   "execution_count": null,
   "metadata": {},
   "outputs": [],
   "source": [
    "get_parent_ratings_first()"
   ]
  },
  {
   "cell_type": "markdown",
   "metadata": {},
   "source": [
    "### If you'd like more recs, rerun the cell(s) above! And thank you for using MovieRec4Parents!"
   ]
  },
  {
   "cell_type": "code",
   "execution_count": null,
   "metadata": {},
   "outputs": [],
   "source": []
  }
 ],
 "metadata": {
  "kernelspec": {
   "display_name": "Python [default]",
   "language": "python",
   "name": "python3"
  },
  "language_info": {
   "codemirror_mode": {
    "name": "ipython",
    "version": 3
   },
   "file_extension": ".py",
   "mimetype": "text/x-python",
   "name": "python",
   "nbconvert_exporter": "python",
   "pygments_lexer": "ipython3",
   "version": "3.6.4"
  }
 },
 "nbformat": 4,
 "nbformat_minor": 2
}
