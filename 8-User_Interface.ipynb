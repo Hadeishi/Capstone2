{
 "cells": [
  {
   "cell_type": "markdown",
   "metadata": {},
   "source": [
    "# Welcome to MovieRec4Parents!\n",
    "\n",
    "#### Please do not tamper with the cell below, or the interface won't work.\n",
    "#### *** IMPORTANT: ***  If you forked and cloned this from my GitHub, you will need to contact yuki@openmind.com so he can send you the cosine similarity matrix file, similarity_matrix_tfidfvec_truncSVD1000.pkl. Put it in /capstone/data folder in order for the recommender to work.\n"
   ]
  },
  {
   "cell_type": "code",
   "execution_count": 2,
   "metadata": {},
   "outputs": [],
   "source": [
    "from lib.interface import *"
   ]
  },
  {
   "cell_type": "markdown",
   "metadata": {},
   "source": [
    "### If you want five quick movie recommendations, think of a movie that is like a movie you'd like to see, click next to \"find_similar_movies\" and press enter. If you have more time and don't mind answering a few questions, click next to \"get_parent_ratings_first\" and press enter. You'll be asked a few questions which will be used to refine my recommendations."
   ]
  },
  {
   "cell_type": "code",
   "execution_count": 5,
   "metadata": {
    "scrolled": false
   },
   "outputs": [
    {
     "name": "stdout",
     "output_type": "stream",
     "text": [
      "Give me a movie title and I'll give you five titles you might also like:Toy Story\n",
      "Sorry, that movie title isn't in my list. Did you mean [('Toy Story 3', 95, 4124), ('Toy Story 2', 95, 4278), ('Toy Story That Time Forgot', 90, 1618)] ?\n",
      "(I need the exact title, please...)Toy Story 2\n",
      "Thanks! Here are my recommendations, along with review text similarity scores:\n"
     ]
    },
    {
     "data": {
      "text/html": [
       "<div>\n",
       "<style scoped>\n",
       "    .dataframe tbody tr th:only-of-type {\n",
       "        vertical-align: middle;\n",
       "    }\n",
       "\n",
       "    .dataframe tbody tr th {\n",
       "        vertical-align: top;\n",
       "    }\n",
       "\n",
       "    .dataframe thead th {\n",
       "        text-align: right;\n",
       "    }\n",
       "</style>\n",
       "<table border=\"1\" class=\"dataframe\">\n",
       "  <thead>\n",
       "    <tr style=\"text-align: right;\">\n",
       "      <th></th>\n",
       "      <th>Toy Story 2</th>\n",
       "    </tr>\n",
       "    <tr>\n",
       "      <th>title</th>\n",
       "      <th></th>\n",
       "    </tr>\n",
       "  </thead>\n",
       "  <tbody>\n",
       "    <tr>\n",
       "      <th>Toy Story (1995)</th>\n",
       "      <td>0.856848</td>\n",
       "    </tr>\n",
       "    <tr>\n",
       "      <th>Toy Story 3</th>\n",
       "      <td>0.802749</td>\n",
       "    </tr>\n",
       "    <tr>\n",
       "      <th>Toy Story of TERROR!</th>\n",
       "      <td>0.694883</td>\n",
       "    </tr>\n",
       "    <tr>\n",
       "      <th>The Christmas Toy</th>\n",
       "      <td>0.662415</td>\n",
       "    </tr>\n",
       "    <tr>\n",
       "      <th>Buzz Lightyear of Star Command: The Adventure Begins</th>\n",
       "      <td>0.599580</td>\n",
       "    </tr>\n",
       "  </tbody>\n",
       "</table>\n",
       "</div>"
      ],
      "text/plain": [
       "                                                    Toy Story 2\n",
       "title                                                          \n",
       "Toy Story (1995)                                       0.856848\n",
       "Toy Story 3                                            0.802749\n",
       "Toy Story of TERROR!                                   0.694883\n",
       "The Christmas Toy                                      0.662415\n",
       "Buzz Lightyear of Star Command: The Adventure B...     0.599580"
      ]
     },
     "execution_count": 5,
     "metadata": {},
     "output_type": "execute_result"
    }
   ],
   "source": [
    "find_similar_movies()\n"
   ]
  },
  {
   "cell_type": "code",
   "execution_count": 4,
   "metadata": {},
   "outputs": [
    {
     "name": "stdout",
     "output_type": "stream",
     "text": [
      "Welcome to MovieRec4Parents! Let me ask you a few questions before we begin.\n",
      "How many children do you have?2\n",
      "How old is your child 1 ?\n",
      "11\n",
      "How old is your child 2 ?\n",
      "8\n",
      "Thank you!\n",
      "I have just 9 more questions for you. Respond with a ? if you'd like some examples.\n",
      "Do you want to see an educational movie?\n",
      "Please enter y, n, or ?n\n",
      "What amount of \"sexy stuff\" is okay for your kids, on a scale of 0 to 3?)\n",
      "Please enter 0, 1, 2, 3, or ?1\n",
      "What level of violence and cartoon scariness is okay for your kids? (0 to 4)\n",
      "Please enter 0, 1, 2, 3, 4, or ??\n",
      "An example of a 0 is An Extremely Goofy Movie\n",
      "An example of a 2 is An American Tail: The Mystery of the Night Monster\n",
      "An example of a 4 is Antz\n",
      "(There are no movies with a 5 rating for Violence & Scariness...)\n",
      "Please enter 0, 1, 2, 3, 4, or ?3\n",
      "What level of exposure to consumerism is okay for your kids? (0 to 5)\n",
      "Please enter 0, 1, 2, 3, 4, 5, or ?2\n",
      "What level of drinking, drugs, & smoking is okay for your kids? (0 to 5)\n",
      "Please enter 0, 1, 2, 3, 4, 5, or ?5\n",
      "What level of exposure to bad language is okay for your kids? (0 to 5)\n",
      "Please enter 0, 1, 2, 3, 4, 5, or ?5\n",
      "How important are positive messages in movies to you and kids? (0 to 5)\n",
      "Please enter 0, 1, 2, 3, 4, 5, or ?3\n",
      "What genre of movie would you like to see?\n",
      "Please enter Drama, Family and Kids, Comedy, Action/Adventure, Documentary, Thriller,\n",
      "Horror, Science Fiction, Fantasy, Romance, Musical, Classic, Western, or ??\n",
      "An example of a Drama is Face 2 Face\n",
      "An example of a Family and Kids movie is The Black Cauldron\n",
      "An example of a Comedy is 13 Going on 30\n",
      "An example of an Action/Adventure movie is The World's Fastest Indian\n",
      "An example of a Documentary is Screenagers\n",
      "An example of a Thriller is P2\n",
      "An example of a Horror movie is Final Destination 5\n",
      "An example of a Science Fiction movie is Total Recall (2012)\n",
      "An example of a Fantasy movie is Thor: Tales of Asgard\n",
      "An example of a Romance is Allied\n",
      "An example of a Musical is Metallica: Through the Never\n",
      "An example of a Classic film is Santa Claus Is Comin' to Town\n",
      "An example of a Western is A Fistful of Dollars\n",
      "Please enter Drama, Family and Kids, Comedy, Action/Adventure, Documentary, Thriller,\n",
      "Horror, Science Fiction, Fantasy, Romance, Musical, Classic, Western, or ?Comedy\n",
      "Finally, what MPAA rating is the most extreme MPAA Rating for your kids (G, PG, PG-13, R, NR (not rated), or NC-17?)\n",
      "Please enter G, PG, PG-13, R, NR (not rated), NC-17, or ??\n",
      "?\n",
      "An example of a G rated movie is The Muppets' Wizard of Oz\n",
      "An example of a PG rated movie is Bright Star\n",
      "An example of a PG-13 rated movie is All Roads Lead to Rome\n",
      "An example of an R rated movie is Decoding Annie Parker\n",
      "An example of an NR rated movie is Digimon Adventure tri: Confession\n",
      "An example of an NC-17 rated movie is The Evil Dead (1981)\n",
      "Please enter G, PG, PG-13, R, NR (not rated), NC-17, or ?PG\n",
      "PG\n",
      "Thank you!\n",
      "Give me a movie title and I'll give you five titles you might also like:Bright Star\n",
      "Thanks! Here are my recommendations, along with review text similarity scores:\n",
      "Here are your recommended movies:\n"
     ]
    },
    {
     "data": {
      "text/plain": [
       "['Cow Belles',\n",
       " 'Imagine That',\n",
       " 'The Parent Trap (1961)',\n",
       " 'Babysitters Beware',\n",
       " 'Those Magnificent Men in Their Flying Machines']"
      ]
     },
     "execution_count": 4,
     "metadata": {},
     "output_type": "execute_result"
    }
   ],
   "source": [
    "get_parent_ratings_first()"
   ]
  },
  {
   "cell_type": "markdown",
   "metadata": {},
   "source": [
    "### If you'd like more recs, rerun the cell(s) above! And thank you for using MovieRec4Parents!"
   ]
  },
  {
   "cell_type": "code",
   "execution_count": null,
   "metadata": {},
   "outputs": [],
   "source": []
  }
 ],
 "metadata": {
  "kernelspec": {
   "display_name": "Python [default]",
   "language": "python",
   "name": "python3"
  },
  "language_info": {
   "codemirror_mode": {
    "name": "ipython",
    "version": 3
   },
   "file_extension": ".py",
   "mimetype": "text/x-python",
   "name": "python",
   "nbconvert_exporter": "python",
   "pygments_lexer": "ipython3",
   "version": "3.6.4"
  }
 },
 "nbformat": 4,
 "nbformat_minor": 2
}
